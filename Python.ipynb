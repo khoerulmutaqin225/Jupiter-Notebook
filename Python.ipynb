{
 "cells": [
  {
   "cell_type": "markdown",
   "metadata": {},
   "source": [
    "# HOME"
   ]
  },
  {
   "cell_type": "code",
   "execution_count": 14,
   "metadata": {},
   "outputs": [
    {
     "name": "stdout",
     "output_type": "stream",
     "text": [
      "Hello, World!\n"
     ]
    }
   ],
   "source": [
    "print(\"Hello, World!\")"
   ]
  },
  {
   "cell_type": "markdown",
   "metadata": {},
   "source": [
    "# Syntax"
   ]
  },
  {
   "cell_type": "markdown",
   "metadata": {},
   "source": [
    "print(\"Hello world\")\n",
    "python myFile.py"
   ]
  },
  {
   "cell_type": "markdown",
   "metadata": {},
   "source": [
    "# Comment"
   ]
  },
  {
   "cell_type": "code",
   "execution_count": 15,
   "metadata": {},
   "outputs": [
    {
     "name": "stdout",
     "output_type": "stream",
     "text": [
      "Hello world\n"
     ]
    }
   ],
   "source": [
    "# This Is Comment\n",
    "print('Hello world')"
   ]
  },
  {
   "cell_type": "markdown",
   "metadata": {},
   "source": [
    "# Variabel"
   ]
  },
  {
   "cell_type": "code",
   "execution_count": 32,
   "metadata": {},
   "outputs": [
    {
     "name": "stdout",
     "output_type": "stream",
     "text": [
      "<class 'str'>\n",
      "<class 'int'>\n",
      "<class 'float'>\n",
      "<class 'bool'>\n"
     ]
    }
   ],
   "source": [
    "# Variables [1]\n",
    "\n",
    "# Simple Declarate the variable\n",
    "Integer = 1\n",
    "String  = \"String\"\n",
    "\n",
    "# Casting\n",
    "String  = str(3)   # String will be '3'  \n",
    "Integer = int(3)   # Integer will be 3  \n",
    "Float   = float(3) # Float will be 3.0\n",
    "bin     = False    # bin will be False  \n",
    "\n",
    "# Get the type\n",
    "print(type(String))\n",
    "print(type(Integer))\n",
    "print(type(Float))\n",
    "print(type(bin))\n",
    "\n",
    "# Variable names [2]\n",
    "\n",
    "myvar   ='Jhon' #lowercase\n",
    "my_var  ='Jhon' #snakecase\n",
    "_my_var ='Jhon' #Snakecase2\n",
    "myVar   ='Jhon' #camelCase\n",
    "MyVar   ='Jhon' #PascallCase\n",
    "MYVAR   ='Jhon' #Capitalize\n",
    "myvar2  ='Jhon' #lowercase + Number\n",
    "\n",
    "# Python Variables - Assign Multiple Values [3]\n",
    "\n",
    "# Many Values to multiple variable\n",
    "x,y,z = \"Orange\", \"Banana\", \"Lemon\"\n",
    "\n",
    "# One Values to multiple variable\n",
    "x,y,z = \"Orange\"\n",
    "\n",
    "#Unpack a Collection\n",
    "fruits = [\"apple\", \"banana\", \"cherry\"]\n",
    "x,y,z = fruits\n",
    "\n",
    "# Output Variabel\n",
    "x = \"Python is awesome\"\n",
    "print(x)\n",
    "\n",
    "\n",
    "# Global Variabel [4]\n",
    "\n",
    "x = \"awesome\"\n",
    "def myFunction():\n",
    "    print(\"Outside Function: \", x)\n",
    "\n",
    "myFunction()\n"
   ]
  },
  {
   "cell_type": "markdown",
   "metadata": {},
   "source": [
    "# Tipe Data"
   ]
  },
  {
   "cell_type": "code",
   "execution_count": null,
   "metadata": {},
   "outputs": [],
   "source": [
    "# Simple data\n",
    "\n",
    "x = \"Hello World\"\t                            # str\t\n",
    "x = 20\t                                        # int\t\n",
    "x = 20.5\t                                    # float\t\n",
    "x = 1j\t                                        # complex\t\n",
    "x = [\"apple\", \"banana\", \"cherry\"]\t            # list\t\n",
    "x = (\"apple\", \"banana\", \"cherry\")\t            # tuple\t\n",
    "x = range(6)\t                                # range\t\n",
    "x = {\"name\" : \"John\", \"age\" : 36}\t            # dict\t\n",
    "x = {\"apple\", \"banana\", \"cherry\"}\t            # set\t\n",
    "x = frozenset({\"apple\", \"banana\", \"cherry\"})\t# frozenset\t\n",
    "x = True\t                                    # bool\t\n",
    "x = b\"Hello\"\t                                # bytes\t\n",
    "x = bytearray(5)\t                            # bytearray\t\n",
    "x = memoryview(bytes(5))\t                    # memoryview\t\n",
    "x = None\t                                    # NoneType\n",
    "\n",
    "# With the specific data\n",
    "x = str(\"Hello World\")\t                        #str\t\n",
    "x = int(20)\t                                    #int\t\n",
    "x = float(20.5)\t                                #float\t\n",
    "x = complex(1j)\t                                #complex\t\n",
    "x = list((\"apple\", \"banana\", \"cherry\"))\t        #list\t\n",
    "x = tuple((\"apple\", \"banana\", \"cherry\"))\t    #tuple\t\n",
    "x = range(6)\t                                #range\t\n",
    "x = dict(name=\"John\", age=36)\t                #dict\t\n",
    "x = set((\"apple\", \"banana\", \"cherry\"))\t        #set\t\n",
    "x = frozenset((\"apple\", \"banana\", \"cherry\"))\t#frozenset\t\n",
    "x = bool(5)\t                                    #bool\t\n",
    "x = bytes(5)\t                                #bytes\t\n",
    "x = bytearray(5)\t                            #bytearray\t\n",
    "x = memoryview(bytes(5))\t                    #memoryview"
   ]
  },
  {
   "cell_type": "markdown",
   "metadata": {},
   "source": [
    "# Python Number"
   ]
  },
  {
   "cell_type": "code",
   "execution_count": null,
   "metadata": {},
   "outputs": [],
   "source": [
    "# Python Numbers\n",
    "# There are three numeric types in Python:\n",
    "x = 1    # int\n",
    "y = 2.8  # float\n",
    "z = 1j   # complex\n",
    "\n"
   ]
  },
  {
   "cell_type": "markdown",
   "metadata": {},
   "source": [
    "# Casting"
   ]
  },
  {
   "cell_type": "code",
   "execution_count": null,
   "metadata": {},
   "outputs": [],
   "source": [
    "# Casting\n",
    "String  = str(3)   # String will be '3'  \n",
    "Integer = int(3)   # Integer will be 3  \n",
    "Float   = float(3) # Float will be 3.0\n",
    "bin     = False    # bin will be False  "
   ]
  },
  {
   "cell_type": "markdown",
   "metadata": {},
   "source": [
    "# String"
   ]
  },
  {
   "cell_type": "code",
   "execution_count": 34,
   "metadata": {},
   "outputs": [
    {
     "name": "stdout",
     "output_type": "stream",
     "text": [
      "Hello\n",
      "llo, World!\n"
     ]
    }
   ],
   "source": [
    "# string [1]\n",
    "\n",
    "# Simple string\n",
    "String         = \"Hello World\"\n",
    "\n",
    "# Multiple String\n",
    "MultipleString = \"\"\" Lorem dolor sit amet, consectetur adipiscing elit. Pellentesque vel mi ut\n",
    "velit tempor aliquam eget eget enim. Proin cursus eleifend pretium. Aliquam cursus \n",
    "pellentesque interdum. Vivamus placerat id leo a pellentesque. Vivamus a congue urna,\n",
    "sed porta eros. Etiam finibus magna et est aliquam, sed semper libero facilisis. \n",
    "Donec lectus lorem, rhoncus vitae quam eget, vulputate gravida elit. Praesent ultricies\n",
    "eros id velit condimentum, eu ultrices nisl consequat.\"\"\"\n",
    "\n",
    "# Slicing Scting [2]\n",
    "\n",
    "# Slice from te start\n",
    "b = \"Hello, World!\"\n",
    "print(b[:5])\n",
    "\n",
    "# Slice from the end\n",
    "b = \"Hello, World!\"\n",
    "print(b[2:])\n",
    "\n",
    "# Modify String [3]\n",
    "a = \"Hello, World!\"\n",
    "a = (a.upper()) #uppercase   # returns HELLO, WORLD\n",
    "a = (a.lower()) #lowercase   # returns hello, horld\n",
    "a = (a.strip()) #removespace # returns Hello,World\n",
    "a = (a.replace(\"H\", \"J\"))    # returns ['Jello', ' World!']\n",
    "a = (a.split(\",\"))           # returns ['Hello', ' World!']\n",
    "\n",
    "# Concatenate [4]\n",
    "a = \"Hello\"\n",
    "b = \"World\"\n",
    "c =  a + b\n",
    "\n",
    "# Format String [5]\n",
    "age = 36\n",
    "txt = \"My name is John, and I am {}\"\n",
    "data = (txt.format(age))\n",
    "print(data)\n",
    "\n",
    "# Escape Caracter [6]\n",
    "txt = \"We are the so-called /\"Vikings/\" from the north.\"\n",
    "# '/'\tSingle Quote\t\n",
    "# //\tBackslash\t\n",
    "# /n\tNew Line\t\n",
    "# /r\tCarriage Return\t\n",
    "# /t\tTab\t\n",
    "# /b\tBackspace\t\n",
    "# /f\tForm Feed\t\n",
    "# /ooo\tOctal value\t\n",
    "# /xhh\tHex value\n",
    "\n",
    "# String Methode [7]\n",
    "\n",
    "capitalize()\t# Converts the first character to upper case\n",
    "casefold()\t    # Converts string into lower case\n",
    "center()\t    # Returns a centered string\n",
    "count()\t        # Returns the number of times a specified value occurs in a string\n",
    "\n",
    "# \n"
   ]
  },
  {
   "cell_type": "markdown",
   "metadata": {},
   "source": [
    "# String Boolean"
   ]
  },
  {
   "cell_type": "code",
   "execution_count": null,
   "metadata": {},
   "outputs": [],
   "source": [
    "bool = True"
   ]
  },
  {
   "cell_type": "markdown",
   "metadata": {},
   "source": [
    "# Operator"
   ]
  },
  {
   "cell_type": "code",
   "execution_count": null,
   "metadata": {},
   "outputs": [],
   "source": [
    "# 1 .Operator Aritmatika ===  + , -, / , *\n",
    "data =  2 + 1\n",
    "data =  2 - 1\n",
    "data =  2 / 2\n",
    "data =  2 * 2\n",
    "\n",
    "# 2 .Operator Penugasan  ===  = , += , -= , /=, %=(sisa bagi), **=(Pemangkatan)\n",
    "a = 2\n",
    "a += 5 #return a = 7\n",
    "\n",
    "# 3 .Operator Pembanding === >, < ==, !=, >=, <= \n",
    "a = 9\n",
    "b = 5\n",
    "c = a < b #return False\n",
    " \n",
    "# 4 .Operator Logika     ===  And, Or, Not\n",
    "a = True\n",
    "b = False\n",
    "# Logika AND\n",
    "c = a and b #return False\n",
    "\n",
    "# 5 .Operator Bitwise === &(and) , |(or) , ^(xor)\n",
    "# a = 00111100\n",
    "# b = 00001101\n",
    "# a & b = 00001100\n",
    "\n",
    "# 6. Operator ternary  \n",
    "# kondisi ? <nilai true> : <nilai false>\n",
    "umur = input(\"berapa umur kamu? \")\n",
    "aku = \"bocah\" if umur < 10 else \"dewasa\"\n",
    "print (aku)\n"
   ]
  },
  {
   "cell_type": "markdown",
   "metadata": {},
   "source": [
    "# List"
   ]
  },
  {
   "cell_type": "code",
   "execution_count": 35,
   "metadata": {},
   "outputs": [
    {
     "name": "stdout",
     "output_type": "stream",
     "text": [
      "Khoerul\n",
      "Khoerul Silvia Latifa Mutaqin "
     ]
    }
   ],
   "source": [
    "# Declarate List\n",
    "data =  [\"Khoerul\", \"Silvia\", \"Latifa\"]\n",
    "new_data = \"Mutaqin\"\n",
    "\n",
    "# memasukan data\n",
    "data.append(new_data)\n",
    "\n",
    "# remove data\n",
    "data.remove(data[0])\n",
    "\n",
    "# Acces Data with looping\n",
    "print(data[0])\n",
    "for x in data:\n",
    "    print(x, end=\" \")\n",
    "    \n",
    "# List comperhesion\n",
    "fruits = [\"apple\", \"banana\", \"cherry\", \"kiwi\", \"mango\"]\n",
    "newlist = [x for x in fruits if \"a\" in x]\n",
    "\n",
    "# Sort list\n",
    "thislist = [100, 50, 65, 82, 23]\n",
    "# ascending\n",
    "thislist.sort()               #return 23,50,65,82,100\n",
    "# descending\n",
    "thislist.sort(reverse = True) #return 100,82,65,50,23,\n",
    "\n",
    "\n",
    "# Copy List\n",
    "thislist = [\"apple\", \"banana\", \"cherry\"]\n",
    "mylist = thislist.copy()\n",
    "\n"
   ]
  },
  {
   "cell_type": "markdown",
   "metadata": {},
   "source": []
  },
  {
   "cell_type": "markdown",
   "metadata": {},
   "source": [
    "# Python Tuple"
   ]
  },
  {
   "cell_type": "code",
   "execution_count": null,
   "metadata": {},
   "outputs": [],
   "source": [
    "mytuple = (\"apple\", \"banana\", \"cherry\")\n",
    "# tuple can't update like list\n",
    "\n",
    "# Acces Tuple\n",
    "print(thistuple[1])\n",
    "\n",
    "# Update Tuple\n",
    "x = (\"apple\", \"banana\", \"cherry\")\n",
    "y = list(x)\n",
    "y[1] = \"kiwi\"\n",
    "x = tuple(y)\n",
    "\n",
    "# unpack tuple\n",
    "fruits = (\"apple\", \"banana\", \"cherry\")\n",
    "(green, yellow, red) = fruits\n",
    "\n",
    "# Loop Tuple\n",
    "thistuple = (\"apple\", \"banana\", \"cherry\")\n",
    "for x in thistuple:\n",
    "  print(x)\n",
    "  \n",
    "\n",
    "\n",
    "\n"
   ]
  },
  {
   "cell_type": "markdown",
   "metadata": {},
   "source": [
    "# Python Set"
   ]
  },
  {
   "cell_type": "code",
   "execution_count": null,
   "metadata": {},
   "outputs": [],
   "source": [
    "myset = {\"apple\", \"banana\", \"cherry\"}"
   ]
  },
  {
   "cell_type": "markdown",
   "metadata": {},
   "source": [
    "# Dictionary"
   ]
  },
  {
   "cell_type": "code",
   "execution_count": null,
   "metadata": {},
   "outputs": [],
   "source": [
    "thisdict = {\n",
    "  \"brand\": \"Ford\",\n",
    "  \"model\": \"Mustang\",\n",
    "  \"year\": 1964\n",
    "}\n",
    "\n",
    "# Acces Dictionary\n",
    "data = (thisdict[\"brand\"])\n",
    "\n",
    "# Change Item\n",
    "thisdict[\"year\"] = 2018\n",
    "\n",
    "# Update\n",
    "thisdict.update({\"year\": 2020})\n",
    "\n",
    "# Add Item\n",
    "thisdict[\"color\"] = \"red\"\n",
    "\n",
    "# Remove Item\n",
    "thisdict.pop(\"model\")\n",
    "\n",
    "# Print dic\n",
    "for x in thisdict:\n",
    "  print(thisdict[x])\n",
    "\n",
    "\n",
    "\n",
    "\n",
    "\n"
   ]
  },
  {
   "cell_type": "markdown",
   "metadata": {},
   "source": [
    "# If else Statement (Percabangan)"
   ]
  },
  {
   "cell_type": "code",
   "execution_count": 36,
   "metadata": {},
   "outputs": [
    {
     "name": "stdout",
     "output_type": "stream",
     "text": [
      "a and b are equal\n"
     ]
    }
   ],
   "source": [
    "a = 33\n",
    "b = 33\n",
    "if b > a:\n",
    "  print(\"b is greater than a\")\n",
    "elif a == b:\n",
    "  print(\"a and b are equal\")"
   ]
  },
  {
   "cell_type": "markdown",
   "metadata": {},
   "source": [
    "# While Loop"
   ]
  },
  {
   "cell_type": "code",
   "execution_count": null,
   "metadata": {},
   "outputs": [],
   "source": [
    "i = 1\n",
    "while i < 6:\n",
    "  print(i)\n",
    "  i += 1\n",
    "else:\n",
    "  print(\"i is no longer less than 6\")"
   ]
  },
  {
   "cell_type": "markdown",
   "metadata": {},
   "source": [
    "# For Loops"
   ]
  },
  {
   "cell_type": "code",
   "execution_count": null,
   "metadata": {},
   "outputs": [],
   "source": [
    "fruits = [\"apple\", \"banana\", \"cherry\"]\n",
    "for x in fruits:\n",
    "  print(x)\n",
    "print(\"breakpoint\")\n",
    "\n",
    "for x in range(6):\n",
    "  print(x)\n",
    "  \n",
    "# x1 dan x2 = x2 - x1\n",
    "# for x in range(x1, x2): 4\n",
    "for x in range(2, 6):\n",
    "  print(x)"
   ]
  },
  {
   "cell_type": "markdown",
   "metadata": {},
   "source": [
    "# Function"
   ]
  },
  {
   "cell_type": "code",
   "execution_count": 38,
   "metadata": {},
   "outputs": [
    {
     "name": "stdout",
     "output_type": "stream",
     "text": [
      "Hello from a function\n"
     ]
    }
   ],
   "source": [
    "# Declare Funtion\n",
    "def my_function():\n",
    "  print(\"Hello from a function\")\n",
    "\n",
    "# Call the Funtion\n",
    "my_function()\n",
    "\n"
   ]
  },
  {
   "cell_type": "markdown",
   "metadata": {},
   "source": [
    "# Lamda"
   ]
  },
  {
   "cell_type": "code",
   "execution_count": 40,
   "metadata": {},
   "outputs": [
    {
     "data": {
      "text/plain": [
       "5"
      ]
     },
     "execution_count": 40,
     "metadata": {},
     "output_type": "execute_result"
    }
   ],
   "source": [
    "# from this\n",
    "def suqare_sum(x,y):\n",
    "  return x**2 + y**2\n",
    "# to this\n",
    "greeting = lambda x,y : x**2 + y**2\n",
    "\n",
    "greeting(1,2)"
   ]
  },
  {
   "cell_type": "markdown",
   "metadata": {},
   "source": [
    "# *args and **kwargs"
   ]
  },
  {
   "cell_type": "code",
   "execution_count": 42,
   "metadata": {},
   "outputs": [
    {
     "name": "stdout",
     "output_type": "stream",
     "text": [
      "(123, 888, 4444)\n",
      "{'tujuan': 123, 'pesan': 'apa kabar'}\n"
     ]
    }
   ],
   "source": [
    "# membuat fungsi dengan parameter *args\n",
    "def kirim_sms(*nomer):\n",
    "    print(nomer)\n",
    "\n",
    "# membuat fungsi dengan parameter **kwargs\n",
    "def tulis_sms(**isi):\n",
    "    print(isi)\n",
    "\n",
    "# Pemanggilan fungsi *args\n",
    "kirim_sms(123, 888, 4444)\n",
    "\n",
    "# pemanggilan fungsi **kwargs\n",
    "tulis_sms(tujuan=123, pesan=\"apa kabar\")"
   ]
  },
  {
   "cell_type": "markdown",
   "metadata": {},
   "source": [
    "# Python Classes and Objects"
   ]
  },
  {
   "cell_type": "code",
   "execution_count": 46,
   "metadata": {},
   "outputs": [
    {
     "name": "stdout",
     "output_type": "stream",
     "text": [
      "John\n",
      "36\n"
     ]
    }
   ],
   "source": [
    "# Create Class\n",
    "class Person:\n",
    "  def __init__(self, name, age):\n",
    "    self.name = name\n",
    "    self.age = age\n",
    "\n",
    "# Create Objek\n",
    "p1 = Person(\"John\", 36)\n",
    "\n",
    "print(p1.name)\n",
    "print(p1.age)"
   ]
  },
  {
   "cell_type": "markdown",
   "metadata": {},
   "source": [
    "# Python Inheritance"
   ]
  },
  {
   "cell_type": "code",
   "execution_count": 47,
   "metadata": {},
   "outputs": [
    {
     "name": "stdout",
     "output_type": "stream",
     "text": [
      "John Doe\n",
      "Mike Olsen\n"
     ]
    }
   ],
   "source": [
    "# Class Parent\n",
    "class Person:\n",
    "  def __init__(self, fname, lname):\n",
    "    self.firstname = fname\n",
    "    self.lastname = lname\n",
    "\n",
    "  def printname(self):\n",
    "    print(self.firstname, self.lastname)\n",
    "\n",
    "#Use the Person class to create an object, and then execute the printname method:\n",
    "\n",
    "x = Person(\"John\", \"Doe\")\n",
    "x.printname()\n",
    "\n",
    "# Class Child\n",
    "class Student(Person):\n",
    "  pass\n",
    "\n",
    "x = Student(\"Mike\", \"Olsen\")\n",
    "x.printname()\n"
   ]
  },
  {
   "cell_type": "markdown",
   "metadata": {},
   "source": [
    "# Iterator"
   ]
  },
  {
   "cell_type": "code",
   "execution_count": 48,
   "metadata": {},
   "outputs": [
    {
     "name": "stdout",
     "output_type": "stream",
     "text": [
      "apple\n",
      "banana\n",
      "cherry\n"
     ]
    }
   ],
   "source": [
    "mytuple = (\"apple\", \"banana\", \"cherry\")\n",
    "myit = iter(mytuple)\n",
    "\n",
    "print(next(myit))\n",
    "print(next(myit))\n",
    "print(next(myit))"
   ]
  },
  {
   "cell_type": "markdown",
   "metadata": {},
   "source": [
    "# Polimorpish"
   ]
  },
  {
   "cell_type": "code",
   "execution_count": null,
   "metadata": {},
   "outputs": [],
   "source": [
    "class Car:\n",
    "  def __init__(self, brand, model):\n",
    "    self.brand = brand\n",
    "    self.model = model\n",
    "\n",
    "  def move(self):\n",
    "    print(\"Drive!\")\n",
    "\n",
    "class Boat:\n",
    "  def __init__(self, brand, model):\n",
    "    self.brand = brand\n",
    "    self.model = model\n",
    "\n",
    "  def move(self):\n",
    "    print(\"Sail!\")\n",
    "\n",
    "class Plane:\n",
    "  def __init__(self, brand, model):\n",
    "    self.brand = brand\n",
    "    self.model = model\n",
    "\n",
    "  def move(self):\n",
    "    print(\"Fly!\")\n",
    "\n",
    "car1 = Car(\"Ford\", \"Mustang\")       #Create a Car class\n",
    "boat1 = Boat(\"Ibiza\", \"Touring 20\") #Create a Boat class\n",
    "plane1 = Plane(\"Boeing\", \"747\")     #Create a Plane class\n",
    "\n",
    "for x in (car1, boat1, plane1):\n",
    "  x.move()"
   ]
  },
  {
   "cell_type": "markdown",
   "metadata": {},
   "source": [
    "# Scope"
   ]
  },
  {
   "cell_type": "code",
   "execution_count": null,
   "metadata": {},
   "outputs": [],
   "source": [
    "def myfunc():\n",
    "  global x\n",
    "  x = 300\n",
    "\n",
    "myfunc()\n",
    "\n",
    "print(x)"
   ]
  },
  {
   "cell_type": "markdown",
   "metadata": {},
   "source": [
    "# Python Module"
   ]
  },
  {
   "cell_type": "code",
   "execution_count": null,
   "metadata": {},
   "outputs": [],
   "source": [
    "# Save this code in a file named mymodule.py\n",
    "\n",
    "def greeting(name):\n",
    "  print(\"Hello, \" + name)\n",
    "  \n",
    "# Use myModule\n",
    "import mymodule\n",
    "\n",
    "mymodule.greeting(\"Jonathan\")"
   ]
  },
  {
   "cell_type": "markdown",
   "metadata": {},
   "source": [
    "# Python Date"
   ]
  },
  {
   "cell_type": "code",
   "execution_count": 50,
   "metadata": {},
   "outputs": [
    {
     "name": "stdout",
     "output_type": "stream",
     "text": [
      "2023-10-26 11:07:54.698544\n"
     ]
    }
   ],
   "source": [
    "import datetime\n",
    "\n",
    "x = datetime.datetime.now()\n",
    "print(x)"
   ]
  },
  {
   "cell_type": "markdown",
   "metadata": {},
   "source": [
    "# Python Math"
   ]
  },
  {
   "cell_type": "code",
   "execution_count": 51,
   "metadata": {},
   "outputs": [
    {
     "name": "stdout",
     "output_type": "stream",
     "text": [
      "5\n",
      "25\n"
     ]
    }
   ],
   "source": [
    "x = min(5, 10, 25)\n",
    "y = max(5, 10, 25)\n",
    "\n",
    "print(x)\n",
    "print(y)"
   ]
  },
  {
   "cell_type": "markdown",
   "metadata": {},
   "source": [
    "# Python Json"
   ]
  },
  {
   "cell_type": "code",
   "execution_count": 54,
   "metadata": {},
   "outputs": [
    {
     "name": "stdout",
     "output_type": "stream",
     "text": [
      "30\n",
      "{\"name\": \"John\", \"age\": 30, \"city\": \"New York\"}\n"
     ]
    }
   ],
   "source": [
    "import json\n",
    "\n",
    "# some JSON:\n",
    "x =  '{ \"name\":\"John\", \"age\":30, \"city\":\"New York\"}'\n",
    "\n",
    "# parse x:\n",
    "y = json.loads(x)\n",
    "\n",
    "# the result is a Python dictionary:\n",
    "print(y[\"age\"])\n",
    "\n",
    "\n",
    "# Convert python to Json\n",
    "import json\n",
    "\n",
    "# a Python object (dict):\n",
    "x = {\n",
    "  \"name\": \"John\",\n",
    "  \"age\": 30,\n",
    "  \"city\": \"New York\"\n",
    "}\n",
    "\n",
    "# convert into JSON:\n",
    "y = json.dumps(x)\n",
    "\n",
    "# the result is a JSON string:\n",
    "print(y)"
   ]
  },
  {
   "cell_type": "markdown",
   "metadata": {},
   "source": [
    "# Regex"
   ]
  },
  {
   "cell_type": "code",
   "execution_count": 57,
   "metadata": {},
   "outputs": [
    {
     "name": "stdout",
     "output_type": "stream",
     "text": [
      "<re.Match object; span=(0, 17), match='The rain in Spain'>\n"
     ]
    }
   ],
   "source": [
    "import re\n",
    "\n",
    "txt = \"The rain in Spain\"\n",
    "x = re.search(\"^The.*Spain$\", txt)\n",
    "print(x)"
   ]
  },
  {
   "cell_type": "markdown",
   "metadata": {},
   "source": [
    "# pip"
   ]
  },
  {
   "cell_type": "code",
   "execution_count": null,
   "metadata": {},
   "outputs": [],
   "source": [
    "# pip --version\n",
    "# pip list\n",
    "# pip install turtle"
   ]
  },
  {
   "cell_type": "markdown",
   "metadata": {},
   "source": [
    "# Python Try Except"
   ]
  },
  {
   "cell_type": "markdown",
   "metadata": {},
   "source": []
  },
  {
   "cell_type": "code",
   "execution_count": 69,
   "metadata": {},
   "outputs": [
    {
     "name": "stdout",
     "output_type": "stream",
     "text": [
      "Variable z is not defined\n"
     ]
    }
   ],
   "source": [
    "bre = \"CUY\"\n",
    "try:\n",
    "  print(bre)\n",
    "except NameError:\n",
    "  print(\"Variable z is not defined\")\n",
    "except:\n",
    "  print(\"Something else went wrong\")"
   ]
  },
  {
   "cell_type": "markdown",
   "metadata": {},
   "source": [
    "# User Input"
   ]
  },
  {
   "cell_type": "code",
   "execution_count": 70,
   "metadata": {},
   "outputs": [
    {
     "name": "stdout",
     "output_type": "stream",
     "text": [
      "Username is: cuy\n"
     ]
    }
   ],
   "source": [
    "username = input(\"Enter username:\")\n",
    "print(\"Username is: \" + username)"
   ]
  },
  {
   "cell_type": "markdown",
   "metadata": {},
   "source": [
    "# String Formatter"
   ]
  },
  {
   "cell_type": "code",
   "execution_count": 71,
   "metadata": {},
   "outputs": [
    {
     "name": "stdout",
     "output_type": "stream",
     "text": [
      "The price is 49 dollars\n"
     ]
    }
   ],
   "source": [
    "price = 49\n",
    "txt = \"The price is {} dollars\"\n",
    "print(txt.format(price))"
   ]
  },
  {
   "cell_type": "markdown",
   "metadata": {},
   "source": [
    "# File Handling (Open)"
   ]
  },
  {
   "cell_type": "code",
   "execution_count": 76,
   "metadata": {},
   "outputs": [
    {
     "name": "stdout",
     "output_type": "stream",
     "text": [
      "['Nama Saya Silvia']\n"
     ]
    }
   ],
   "source": [
    "# buka file\n",
    "file_puisi = open(\"pusisi.txt\", \"r\")\n",
    "\n",
    "# baca isi file\n",
    "print(file_puisi.readlines())\n",
    "\n",
    "# tutup file\n",
    "file_puisi.close()"
   ]
  },
  {
   "cell_type": "markdown",
   "metadata": {},
   "source": [
    "# Python File Write"
   ]
  },
  {
   "cell_type": "code",
   "execution_count": 77,
   "metadata": {},
   "outputs": [
    {
     "name": "stdout",
     "output_type": "stream",
     "text": [
      "Now the file has more content!\n"
     ]
    }
   ],
   "source": [
    "f = open(\"demofile2.txt\", \"a\")\n",
    "f.write(\"Now the file has more content!\")\n",
    "f.close()\n",
    "\n",
    "#open and read the file after the appending:\n",
    "f = open(\"demofile2.txt\", \"r\")\n",
    "print(f.read())"
   ]
  },
  {
   "cell_type": "markdown",
   "metadata": {},
   "source": [
    "# Delete File"
   ]
  },
  {
   "cell_type": "code",
   "execution_count": null,
   "metadata": {},
   "outputs": [],
   "source": [
    "import os\n",
    "os.remove(\"demofile23.txt\")\n",
    "\n",
    "import os\n",
    "if os.path.exists(\"demofile.txt\"):\n",
    "  os.remove(\"demofile.txt\")\n",
    "else:\n",
    "  print(\"The file does not exist\")\n"
   ]
  },
  {
   "cell_type": "markdown",
   "metadata": {},
   "source": [
    "# Cek Directory"
   ]
  },
  {
   "cell_type": "code",
   "execution_count": 7,
   "metadata": {},
   "outputs": [
    {
     "name": "stdout",
     "output_type": "stream",
     "text": [
      "Direktori Ada\n"
     ]
    }
   ],
   "source": [
    "import os\n",
    "\n",
    "folder_path = \"C:/xampp/htdocs/xampp/Jupiter-Notebook/Data\"\n",
    "\n",
    "# Memeriksa apakah direktori ada\n",
    "if os.path.exists(folder_path):\n",
    "    print(\"Direktori Ada\")\n",
    "else:\n",
    "    print(\"Direktori Tidak Ada\")\n"
   ]
  },
  {
   "cell_type": "markdown",
   "metadata": {},
   "source": [
    "# Akses Directory"
   ]
  },
  {
   "cell_type": "code",
   "execution_count": 40,
   "metadata": {},
   "outputs": [
    {
     "name": "stdout",
     "output_type": "stream",
     "text": [
      "Daftar File dalam Direktori:\n"
     ]
    }
   ],
   "source": [
    "import os\n",
    "\n",
    "# folder_path = \"C:/xampp/htdocs/xampp/Jupiter-Notebook/Data\"\n",
    "# folder_path = \"C:\\\\xampp\\\\htdocs\\\\xampp\\\\Jupiter-Notebook\\\\Data\"\n",
    "# folder_path = \"Data\\\\File\"\n",
    "# folder_path = \"Data\"\n",
    "\n",
    "# Mendapatkan daftar file dalam direktori\n",
    "file_list = os.listdir(folder_path)\n",
    "print(\"Daftar File dalam Direktori:\")\n",
    "for file_name in file_list:\n",
    "    print(file_name)\n"
   ]
  },
  {
   "cell_type": "markdown",
   "metadata": {},
   "source": [
    "# Rubah Nama Lagu\n"
   ]
  },
  {
   "cell_type": "code",
   "execution_count": 28,
   "metadata": {},
   "outputs": [
    {
     "name": "stdout",
     "output_type": "stream",
     "text": [
      "Renamed: Cuma kamu.mp3 to Rhoma - Cuma kamu.mp3\n",
      "Renamed: Kegagalan cinta.mp3 to Rhoma - Kegagalan cinta.mp3\n",
      "Renamed: Syahdu.mp3 to Rhoma - Syahdu.mp3\n"
     ]
    }
   ],
   "source": [
    "import os\n",
    "\n",
    "def rename_songs(folder_path, artist_name):\n",
    "    # Loop through all files in the folder\n",
    "    for filename in os.listdir(folder_path):\n",
    "        # Check if the file is an mp3 file\n",
    "        if filename.endswith(\".mp3\"):\n",
    "            # Create the new filename by adding the artist name\n",
    "           \n",
    "            new_filename = f\"{artist_name} - {filename}\"\n",
    "            # Renamed: Aduhai.mp3 to Rhoma - Aduhai.mp3\n",
    "            # Rename the file\n",
    "            os.rename(os.path.join(folder_path, filename), os.path.join(folder_path, new_filename))\n",
    "            print(f\"Renamed: {filename} to {new_filename}\")\n",
    "\n",
    "# Example usage\n",
    "folder_path = \"H:\\\\Musik\\\\EVIE TAMALA , ELVI SUKAESI , RITA SUGIARTO dan  RHOMA IRAMA\\\\rhoma irama\\\\test\"\n",
    "artist_name = \"Rhoma\"\n",
    "rename_songs(folder_path, artist_name)\n"
   ]
  },
  {
   "cell_type": "code",
   "execution_count": 29,
   "metadata": {},
   "outputs": [
    {
     "name": "stdout",
     "output_type": "stream",
     "text": [
      "Nama file diubah dari 'Rhoma - Aduhai.mp3' menjadi 'Rhoma - Aduhai.mp3'\n",
      "Nama file diubah dari 'Rhoma - Apa kabar.mp3' menjadi 'Rhoma - Apa kabar.mp3'\n",
      "Nama file diubah dari 'Rhoma - Azza.mp3' menjadi 'Rhoma - Azza.mp3'\n",
      "Nama file diubah dari 'Rhoma - Cuma kamu.mp3' menjadi 'Rhoma - Cuma kamu.mp3'\n",
      "Nama file diubah dari 'Rhoma - Dak Dik Duk.mp3' menjadi 'Rhoma - Dak Dik Duk.mp3'\n",
      "Nama file diubah dari 'Rhoma - Dasi & Gincu.mp3' menjadi 'Rhoma - Dasi & Gincu.mp3'\n",
      "Nama file diubah dari 'Rhoma - Dawai Asmara.mp3' menjadi 'Rhoma - Dawai Asmara.mp3'\n",
      "Nama file diubah dari 'Rhoma - Deritamu Deritaku.mp3' menjadi 'Rhoma - Deritamu Deritaku.mp3'\n",
      "Nama file diubah dari 'Rhoma - Hatimu Hatiku.mp3' menjadi 'Rhoma - Hatimu Hatiku.mp3'\n",
      "Nama file diubah dari 'Rhoma - Janda Kembang.mp3' menjadi 'Rhoma - Janda Kembang.mp3'\n",
      "Nama file diubah dari 'Rhoma - Joget.mp3' menjadi 'Rhoma - Joget.mp3'\n",
      "Nama file diubah dari 'Rhoma - Kegagalan cinta.mp3' menjadi 'Rhoma - Kegagalan cinta.mp3'\n",
      "Nama file diubah dari 'Rhoma - mera & yu.mp3' menjadi 'Rhoma - mera & yu.mp3'\n",
      "Nama file diubah dari 'Rhoma - Musim Cinta.mp3' menjadi 'Rhoma - Musim Cinta.mp3'\n",
      "Nama file diubah dari 'Rhoma - Reformasi.mp3' menjadi 'Rhoma - Reformasi.mp3'\n",
      "Nama file diubah dari 'Rhoma - Suratan.mp3' menjadi 'Rhoma - Suratan.mp3'\n",
      "Nama file diubah dari 'Rhoma - Syahdu.mp3' menjadi 'Rhoma - Syahdu.mp3'\n",
      "Nama file diubah dari 'Rhoma - Terkesima.mp3' menjadi 'Rhoma - Terkesima.mp3'\n",
      "Nama file diubah dari 'Rhoma - Yun Diayun.mp3' menjadi 'Rhoma - Yun Diayun.mp3'\n",
      "Nama file diubah dari 'Rhoma Irama & Rita Sugiarto - Kerinduan.mp3' menjadi 'Rhoma Irama & Rita Sugiarto - Kerinduan.mp3'\n",
      "Nama file diubah dari 'Rhoma_Irama_Cuma_Kamu.mp3' menjadi 'Cuma_Kamu.mp3'\n",
      "Nama file diubah dari 'Rhoma_Irama_Kegagalan_Cinta.mp3' menjadi 'Kegagalan_Cinta.mp3'\n",
      "Nama file diubah dari 'Rhoma_Irama_Syahdu.mp3' menjadi 'Syahdu.mp3'\n",
      "Nama file diubah dari 'Rita sugiarto - Kereta malam.mp3' menjadi 'Rita sugiarto - Kereta malam.mp3'\n"
     ]
    }
   ],
   "source": [
    "import os\n",
    "\n",
    "def remove_artist_name(folder_path, artist_name):\n",
    "    # Loop melalui semua file di folder\n",
    "    for filename in os.listdir(folder_path):\n",
    "        # Periksa apakah file adalah file mp3\n",
    "        if filename.endswith(\".mp3\"):\n",
    "            # Pisahkan judul penyanyi dari judul lagu\n",
    "            new_filename = filename.replace(artist_name + \"_\", \"\")\n",
    "            # Nama file diubah dari 'Rhoma Aduhai.mp3' menjadi 'Aduhai.mp3'\n",
    "            # Rename file\n",
    "            os.rename(os.path.join(folder_path, filename), os.path.join(folder_path, new_filename))\n",
    "            print(f\"Nama file diubah dari '{filename}' menjadi '{new_filename}'\")\n",
    "\n",
    "# Contoh penggunaan\n",
    "folder_path = \"H:\\\\Musik\\\\EVIE TAMALA , ELVI SUKAESI , RITA SUGIARTO dan  RHOMA IRAMA\\\\rhoma irama\"\n",
    "artist_name = \"Rhoma_Irama\"\n",
    "remove_artist_name(folder_path, artist_name)\n"
   ]
  }
 ],
 "metadata": {
  "kernelspec": {
   "display_name": "base",
   "language": "python",
   "name": "python3"
  },
  "language_info": {
   "codemirror_mode": {
    "name": "ipython",
    "version": 3
   },
   "file_extension": ".py",
   "mimetype": "text/x-python",
   "name": "python",
   "nbconvert_exporter": "python",
   "pygments_lexer": "ipython3",
   "version": "3.12.0"
  }
 },
 "nbformat": 4,
 "nbformat_minor": 2
}
