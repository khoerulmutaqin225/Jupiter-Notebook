{
 "cells": [
  {
   "cell_type": "markdown",
   "metadata": {},
   "source": [
    "# Introduction Numpy"
   ]
  },
  {
   "cell_type": "code",
   "execution_count": null,
   "metadata": {},
   "outputs": [],
   "source": [
    "import numpy as np\n",
    "\n",
    "arr = np.array([1,2,34,54,6])\n",
    "\n",
    "print(arr)\n",
    "\n",
    "print(np.__version__)\n"
   ]
  },
  {
   "cell_type": "markdown",
   "metadata": {},
   "source": [
    "# Numpy Creating Array"
   ]
  },
  {
   "cell_type": "code",
   "execution_count": null,
   "metadata": {},
   "outputs": [],
   "source": [
    "# Numpy is array  in module python, amd we call this as ndarray\n",
    "# Importing the numpy library\n",
    "import numpy as np\n",
    "\n",
    "# Creating a numpy array using arange function with start=0 and stop=10.\n",
    "arr = np.arange(0, 10)\n",
    "print(\"Original Array:\", arr)\n",
    "\n",
    "# Or creating array primitif like this\n",
    "\n",
    "arrTwo = np.array([0,1,2,3,4,5,6,7,8,9])\n",
    "print(\"Original ArrayTwo:\", arrTwo)\n",
    "\n",
    "\n",
    "# Or we can create ndarray from tuple primitif\n",
    "tuple = np.array((0,1,2,3,4,5,6,7,8,9))\n",
    "print(\"Original Array from tuple:\", tuple)\n",
    "\n",
    "# 0 Dimension array\n",
    "arrZeroD = np.array(42)\n",
    "print(\"Original Array from arrZeroD:\", arrZeroD)\n",
    "\n",
    "# 1 Dimension array\n",
    "arrOneD = np.array([0,1,2,3,4,5,6,7,8,9])\n",
    "print(\"Original Array from arrOneD:\", arrOneD)\n",
    "\n",
    "# 2 Dimension array\n",
    "arrTwoD = np.array([[0,1,2],[4,5,6],[7,8,9]])\n",
    "print(\"Original Array from arrTwoD:\", arrTwoD)\n",
    "\n",
    "# 3 Dimension array\n",
    "arrTreeD = np.array([[[0,1,2],[4,5,6]],[[0,1,2],[4,5,6]]])\n",
    "print(\"Original Array from arrTreeD:\", arrTreeD)\n",
    "\n",
    "\n",
    "print(arrZeroD.ndim)\n",
    "print(arrOneD.ndim)\n",
    "print(arrTwoD.ndim)\n",
    "print(arrTreeD.ndim)\n",
    "\n",
    "arrFiveD = np.array([1,2,3,4], ndmin=5)\n",
    "print(arrFiveD)\n",
    "print('Number of dimensions : ', arrFiveD.ndim)\n",
    "\n"
   ]
  },
  {
   "cell_type": "markdown",
   "metadata": {},
   "source": [
    "# Numpy Array Idexing"
   ]
  },
  {
   "cell_type": "code",
   "execution_count": null,
   "metadata": {},
   "outputs": [],
   "source": [
    "# Creating array with numpy\n",
    "# Importing the required library\n",
    "import numpy as np\n",
    "arr = np.arange(1,5)\n",
    "\n",
    "#  Get all element\n",
    "print(arr)\n",
    "\n",
    "#  Get first element\n",
    "print(arr[0])\n",
    "\n",
    "#  Get tree element and four element and add them\n",
    "print(arr[2] + arr[3])\n",
    "\n",
    "\n",
    "#  Acces element array 2 dimensions\n",
    "matrix = np.array([[1,2],[3,4]])\n",
    "print('2nd element on 1st row:',matrix[0][1])\n",
    "\n",
    "#  Acces element array 3 dimensions\n",
    "cube = np.array([[[1,2],[3,4]], [[5,6], [7,8]]])\n",
    "print('2nd element on 1st row of cube:',cube[0][1][0])\n",
    "\n",
    "#  Negative indexing with array\n",
    "negative_index = -np.ones((2,2))\n",
    "print(negative_index)\n",
    "\n"
   ]
  },
  {
   "cell_type": "markdown",
   "metadata": {},
   "source": [
    "# Numpy Array Slicing"
   ]
  },
  {
   "cell_type": "code",
   "execution_count": null,
   "metadata": {},
   "outputs": [],
   "source": [
    "# SLicing array in pyhon numpy\n",
    "# Importing the required module\n",
    "import numpy as np\n",
    "\n",
    "# Creating a 1D Numpy Array\n",
    "arr = np.array([1,2,3,4,5,6])\n",
    "print(\"Original Array:\", arr)\n",
    "\n",
    "# Slicing an array\n",
    "sliced_arr = arr[0:3]\n",
    "print(\"\\nSliced Array: \", sliced_arr)\n",
    "\n",
    "#  Slicing element 4 to end in pyhton numpy\n",
    "sliced_end_arr = arr[4:]\n",
    "print(\"\\nSliced Array from index 4 till end : \", sliced_end_arr)\n",
    "\n",
    "\n",
    "# slicing element from beginning to index 4 not include in python numpy\n",
    "sliced_beginning_to_index_4 = arr[:4]\n",
    "print(\"\\nSliced Array from start till index 4 : \", sliced_beginning_to_index_4)"
   ]
  },
  {
   "cell_type": "markdown",
   "metadata": {},
   "source": [
    "# Numpy Data Types"
   ]
  },
  {
   "cell_type": "code",
   "execution_count": null,
   "metadata": {},
   "outputs": [],
   "source": [
    "# Create data types array in python nump\n",
    "import numpy as np\n",
    "# create a list of integers\n",
    "\n",
    "int_list = [1, 2, 3, 4]\n",
    "# convert the list to an array\n",
    "\n",
    "int_array = np.array(int_list)\n",
    "print(\"Integer Array: \", int_array)\n",
    "print(int_array.dtype)\n",
    "\n",
    "# create a list of floats\n",
    "float_list = [1.0, 2.5, 3.7, 4.9]\n",
    "\n",
    "# convert the list to an array\n",
    "float_array = np.array(float_list)\n",
    "print(\"Float Array: \", float_array)\n",
    "print(float_array.dtype)\n",
    "\n",
    "# create a list of strings\n",
    "str_list = [\"apple\", \"banana\", \"cherry\"]\n",
    "\n",
    "# convert the list to an array\n",
    "str_array = np.array(str_list)\n",
    "print(\"String Array: \", str_array)\n",
    "print(str_array.dtype)\n",
    "\n",
    "# create a list of boolean values\n",
    "bool_list = [True, False, True, False]\n",
    "\n",
    "# convert the list to an array\n",
    "bool_array = np.array(bool_list)\n",
    "print(\"Boolean Array: \", bool_array)\n",
    "print(bool_array.dtype)\n",
    "\n",
    "# create a list of complex numbers\n",
    "complex_nums = [(1+2j), (3-4j)]\n",
    "\n",
    "# convert the list to an array\n",
    "complex_arr = np.array(complex_nums)\n",
    "print(\"Complex Number Array: \", complex_arr)\n",
    "print(complex_arr.dtype)\n",
    "''' \n",
    "    Output:\n",
    "        Integer Array:  [1 2 3 4]\n",
    "        Float Array:  [1. 2.5 3.7 4.9]\n",
    "        String Array:  ['apple' 'banana' 'cherry']\n",
    "        Boolean Array:  [ True False  True False]\n",
    "        Complex Number Array:  [[1 +2j]\n",
    "        [3 -4j]]\n",
    "'''"
   ]
  },
  {
   "cell_type": "markdown",
   "metadata": {},
   "source": [
    "# Numpy Copy vs View"
   ]
  },
  {
   "cell_type": "code",
   "execution_count": null,
   "metadata": {},
   "outputs": [],
   "source": [
    "#  Make a different copy array and view array python numpy\n",
    "import numpy as np\n",
    "\n",
    "# Create an array using the numpy library.\n",
    "my_array = np.arange(10)\n",
    "print(\"Original Array:\", my_array)\n",
    "\n",
    "# Copying the original array to another variable\n",
    "my_array[0] = 42\n",
    "copy_of_array = my_array.copy()\n",
    "\n",
    "# the stack memory can't edit with a_array_copy\n",
    "print(\"\\nCopy of Original Array: \", copy_of_array)\n",
    "\n",
    "# Viewing the same data in memory without copying it\n",
    "my_array[0] = 32\n",
    "viewed_data = my_array.view()\n",
    "print(\"\\nView of Original Array: \", viewed_data)\n"
   ]
  },
  {
   "cell_type": "markdown",
   "metadata": {},
   "source": [
    "# Numpy Array Shapes"
   ]
  },
  {
   "cell_type": "code",
   "execution_count": null,
   "metadata": {},
   "outputs": [],
   "source": [
    "#  Create Shape array 2 dimenson python numpy\n",
    "import numpy as np\n",
    "shape_array = np.array([[1,2,3,4],[2,3,4,5]])\n",
    "print(shape_array.shape)\n"
   ]
  },
  {
   "cell_type": "markdown",
   "metadata": {},
   "source": [
    "# Array Reshape"
   ]
  },
  {
   "cell_type": "code",
   "execution_count": null,
   "metadata": {},
   "outputs": [],
   "source": [
    "import numpy as np\n",
    "arr = np.array([1,2,3,4,5,6,7,8,9,10,11,12])\n",
    "print(arr.shape)\n",
    "newarr = arr.reshape(4,3)\n",
    "print(newarr)"
   ]
  },
  {
   "cell_type": "markdown",
   "metadata": {},
   "source": [
    "# Numpy Array Iterating"
   ]
  },
  {
   "cell_type": "code",
   "execution_count": null,
   "metadata": {},
   "outputs": [],
   "source": [
    "# create array iterating in python numpy\n",
    "import numpy as np\n",
    "# create a 1D array with size of 5 elements and fill it with random values between -2 to +2\n",
    "arr = np.random.uniform(-2, 2, (5))\n",
    "print(f\"Array: {arr}\")\n",
    "# create a 2D array with shape of 3 rows x 4 columns and fill it with random values between -2 to +2\n",
    "matrix_A = np.random.uniform(-2, 2, (3, 4))\n",
    "print(f\"\\nMatrix A:\\n{matrix_A}\")\n",
    "\n",
    "\n",
    "# Iterating array 1d\n",
    "arr = np.array([1,2,3])\n",
    "for x in arr:\n",
    "    print(x)\n",
    "\n",
    "arr2 = np.array([[1,2,3],[4,5,6]])\n",
    "for u in arr2:\n",
    "    print(u)\n"
   ]
  },
  {
   "cell_type": "markdown",
   "metadata": {},
   "source": [
    "# Numpy Array Join"
   ]
  },
  {
   "cell_type": "code",
   "execution_count": null,
   "metadata": {},
   "outputs": [],
   "source": [
    "# create array join python numpy\n",
    "import numpy as np\n",
    "# Create a 2D NumPy Array\n",
    "arr = np.array([[1, 2], [3, 4]])\n",
    "print(\"Original Array:\")\n",
    "print(arr)\n",
    "# Join the rows of two arrays\n",
    "new_row = np.array([5,6])\n",
    "arr = np.vstack((arr, new_row))\n",
    "print(\"\\nArray after adding row to it:\")\n",
    "print(arr)\n",
    "\n",
    "\n",
    "# Create array join with concatenate\n",
    "from numpy import append\n",
    "a = np.array([1, 2, 3])\n",
    "b = np.array([4, 5, 6])\n",
    "c = append(a, b)\n",
    "# or like this\n",
    "d = np.concatenate((a,b))\n",
    "print(\"\\nConcatenated Arrays with append:\")\n",
    "print(c)\n",
    "\n",
    "print(\"\\nConcatenated Arrays with concatenate:\")\n",
    "print(d)\n",
    "\n",
    "\n",
    "# Join array with stack array function\n",
    "def join_arrays(*args):\n",
    "    return np.column_stack(args)\n",
    "a = np.array([1, 2, 3])\n",
    "b = np.array([4, 5, 6])\n",
    "result = join_arrays(a, b)\n",
    "print(\"\\nJoined Arrays using column_stack:\")\n",
    "print(result)\n"
   ]
  },
  {
   "cell_type": "markdown",
   "metadata": {},
   "source": [
    "# Numpy Splitting Array\n"
   ]
  },
  {
   "cell_type": "code",
   "execution_count": 117,
   "metadata": {},
   "outputs": [
    {
     "name": "stdout",
     "output_type": "stream",
     "text": [
      "Original Array:\n",
      "[1 2 3 4 5 6]\n",
      "\n",
      "Sub-Array 1:\n",
      "[array([1, 2]), array([3, 4]), array([5, 6])]\n"
     ]
    }
   ],
   "source": [
    "#  Splitting array numpy\n",
    "import numpy as np\n",
    "\n",
    "# Create a random array of size 10x5 with values between -2 and 3.\n",
    "arr = np.array([1,2,3,4,5,6])\n",
    "print(\"Original Array:\")\n",
    "print(arr)\n",
    "\n",
    "# Split the array into two sub-arrays along axis=0\n",
    "sub_arr1 = np.array_split(arr, 3)\n",
    "print(\"\\nSub-Array 1:\")\n",
    "print(sub_arr1)\n",
    "\n",
    "\n"
   ]
  },
  {
   "cell_type": "markdown",
   "metadata": {},
   "source": [
    "# Numpy Array Search"
   ]
  },
  {
   "cell_type": "code",
   "execution_count": 119,
   "metadata": {},
   "outputs": [
    {
     "name": "stdout",
     "output_type": "stream",
     "text": [
      "(array([3, 5, 6], dtype=int64),)\n"
     ]
    }
   ],
   "source": [
    "import numpy as np\n",
    "arr = np.array([1,2,3,4,5,4,4])\n",
    "x = np.where(arr == 4)\n",
    "# Display index from array search\n",
    "print(x)"
   ]
  },
  {
   "cell_type": "markdown",
   "metadata": {},
   "source": [
    "# Numpy Array Sort"
   ]
  },
  {
   "cell_type": "code",
   "execution_count": 121,
   "metadata": {},
   "outputs": [
    {
     "name": "stdout",
     "output_type": "stream",
     "text": [
      "Original Array: [0.80813942 0.47328269 1.70314526 1.12751474 2.08793886]\n",
      "Sorted Array: [0.47328269 0.80813942 1.12751474 1.70314526 2.08793886]\n"
     ]
    }
   ],
   "source": [
    "# short array numpy\n",
    "import numpy as np\n",
    "# create a 1D array of size 5 filled with random values between -2 and 3\n",
    "arr = np.random.uniform(-2, 3, (5))\n",
    "print(f\"Original Array: {arr}\")\n",
    "# sort the array in ascending order\n",
    "sorted_array = np.sort(arr)\n",
    "print(f\"Sorted Array: {sorted_array}\")\n"
   ]
  },
  {
   "cell_type": "markdown",
   "metadata": {},
   "source": [
    "# Numpy Array Filter"
   ]
  },
  {
   "cell_type": "code",
   "execution_count": 122,
   "metadata": {},
   "outputs": [
    {
     "name": "stdout",
     "output_type": "stream",
     "text": [
      "Original Array: [1 2 3 4 5]\n",
      "\n",
      "Filtered Even Numbers:  [2 4]\n"
     ]
    }
   ],
   "source": [
    "# FIlter array numpy\n",
    "# Importing Numpy library\n",
    "import numpy as np\n",
    "# Creating a list of numbers\n",
    "numbers = [1, 2, 3, 4, 5]\n",
    "# Converting the list into an array using numpy.array() function\n",
    "numbers_arr = np.array(numbers)\n",
    "print(\"Original Array:\", numbers_arr)\n",
    "# Filtering out even numbers from the array\n",
    "filtered_even_nums = numbers_arr[np.where(numbers_arr % 2 == 0)]\n",
    "print(\"\\nFiltered Even Numbers: \", filtered_even_nums)\n"
   ]
  }
 ],
 "metadata": {
  "kernelspec": {
   "display_name": "base",
   "language": "python",
   "name": "python3"
  },
  "language_info": {
   "codemirror_mode": {
    "name": "ipython",
    "version": 3
   },
   "file_extension": ".py",
   "mimetype": "text/x-python",
   "name": "python",
   "nbconvert_exporter": "python",
   "pygments_lexer": "ipython3",
   "version": "3.11.5"
  }
 },
 "nbformat": 4,
 "nbformat_minor": 2
}
